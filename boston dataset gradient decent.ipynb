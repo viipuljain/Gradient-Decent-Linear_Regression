{
 "cells": [
  {
   "cell_type": "code",
   "execution_count": 16,
   "metadata": {},
   "outputs": [
    {
     "data": {
      "text/plain": [
       "14"
      ]
     },
     "execution_count": 16,
     "metadata": {},
     "output_type": "execute_result"
    }
   ],
   "source": [
    "import numpy as np\n",
    "import pandas as pd\n",
    "tr_df =  np.loadtxt(\"0000000000002417_training_boston_x_y_train.csv\",delimiter=\",\")\n",
    "tr_df.shape[1]\n"
   ]
  },
  {
   "cell_type": "code",
   "execution_count": 17,
   "metadata": {},
   "outputs": [],
   "source": [
    "def step_grad(points, learn_rate, M):\n",
    "    N = points.shape[0]\n",
    "    num_col = points.shape[1]\n",
    "    \n",
    "    new_M = np.zeros(num_col)\n",
    "    \n",
    "    for i in range(N):\n",
    "        x = points[i, 0:num_col-1]\n",
    "        x = np.append(x, 1)\n",
    "        y = points[i, num_col-1]\n",
    "        for j in range(num_col):\n",
    "            new_M[j] += (-2/N) * (y - (M * x).sum()) * x[j]\n",
    "        M = M - (learn_rate * new_M)\n",
    "    \n",
    "    return M"
   ]
  },
  {
   "cell_type": "code",
   "execution_count": 18,
   "metadata": {},
   "outputs": [],
   "source": [
    "def gd(points, learn_rate, num_iter):\n",
    "    num_col = points.shape[1]\n",
    "    M = np.zeros(num_col)\n",
    "    \n",
    "    for i in range(num_iter):\n",
    "        M = step_grad(points, learn_rate, M)\n",
    "#         if i % 100== 0:\n",
    "#             print(i, \"Cost= \", cost(points, M))\n",
    "    print(i, \"Cost= \", cost(points, M))\n",
    "    return M"
   ]
  },
  {
   "cell_type": "code",
   "execution_count": 19,
   "metadata": {},
   "outputs": [],
   "source": [
    "def cost(points, M):\n",
    "    total_cost = 0\n",
    "    \n",
    "    N = points.shape[0]\n",
    "    num_col = points.shape[1]\n",
    "    \n",
    "    for i in range(N):\n",
    "        x = points[i,0:num_col-1]\n",
    "        x = np.append(x, 1)\n",
    "        y = points[i,num_col-1]\n",
    "        total_cost += (y - (M * x).sum()) ** 2\n",
    "        \n",
    "    total_cost = (1/N) * total_cost\n",
    "    return total_cost"
   ]
  },
  {
   "cell_type": "code",
   "execution_count": 20,
   "metadata": {},
   "outputs": [],
   "source": [
    "def run():\n",
    "    #= pd.read_csv(\"/Users/shagunsaboo/Downloads/trainb.csv\")\n",
    "    learning_rate = 0.00001\n",
    "    num_iterations = 1000\n",
    "    m = gd(tr_df, learning_rate, num_iterations)\n",
    "    #print(m, c)\n",
    "    return m[0:13], m[13]"
   ]
  },
  {
   "cell_type": "code",
   "execution_count": 21,
   "metadata": {},
   "outputs": [
    {
     "name": "stdout",
     "output_type": "stream",
     "text": [
      "999 Cost=  25.571325690101485\n",
      "[-0.84556523  0.40130442 -0.82525659  0.76445869 -0.65678052  3.2496442\n",
      "  0.210736   -1.49828066  0.79231793 -0.36078684 -1.54200284  0.66263159\n",
      " -3.58986573] 22.013737506684336\n"
     ]
    }
   ],
   "source": [
    "m,c=run()\n",
    "print(m,c)"
   ]
  },
  {
   "cell_type": "code",
   "execution_count": 24,
   "metadata": {},
   "outputs": [],
   "source": [
    "test_data =np.loadtxt(\"0000000000002417_test_boston_x_test.csv\", delimiter=\",\")"
   ]
  },
  {
   "cell_type": "code",
   "execution_count": 25,
   "metadata": {},
   "outputs": [],
   "source": [
    "from sklearn.ensemble import GradientBoostingRegressor"
   ]
  },
  {
   "cell_type": "raw",
   "metadata": {},
   "source": []
  },
  {
   "cell_type": "code",
   "execution_count": 26,
   "metadata": {},
   "outputs": [],
   "source": [
    "x = tr_df[:, :-1]\n",
    "y = tr_df[:, -1]"
   ]
  },
  {
   "cell_type": "code",
   "execution_count": 27,
   "metadata": {},
   "outputs": [
    {
     "data": {
      "text/plain": [
       "GradientBoostingRegressor(alpha=0.9, criterion='friedman_mse', init=None,\n",
       "                          learning_rate=0.1, loss='ls', max_depth=3,\n",
       "                          max_features=None, max_leaf_nodes=None,\n",
       "                          min_impurity_decrease=0.0, min_impurity_split=None,\n",
       "                          min_samples_leaf=1, min_samples_split=2,\n",
       "                          min_weight_fraction_leaf=0.0, n_estimators=100,\n",
       "                          n_iter_no_change=None, presort='auto',\n",
       "                          random_state=None, subsample=1.0, tol=0.0001,\n",
       "                          validation_fraction=0.1, verbose=0, warm_start=False)"
      ]
     },
     "execution_count": 27,
     "metadata": {},
     "output_type": "execute_result"
    }
   ],
   "source": [
    "reg=GradientBoostingRegressor()\n",
    "reg.fit(x,y)"
   ]
  },
  {
   "cell_type": "code",
   "execution_count": 37,
   "metadata": {},
   "outputs": [],
   "source": [
    "y_predict=reg.predict(test_data)"
   ]
  },
  {
   "cell_type": "code",
   "execution_count": 38,
   "metadata": {},
   "outputs": [
    {
     "data": {
      "text/plain": [
       "array([11.86134501, 26.80499145, 17.09852907, 22.06512279, 21.19058003,\n",
       "       12.2832724 , 28.22068484, 25.20237061, 18.77275134, 22.99272373,\n",
       "       23.39058111, 17.6291958 , 19.64676654, 20.87639405, 51.86380438,\n",
       "       21.03836143, 23.49131107, 22.87310447, 19.17816831, 30.6365982 ,\n",
       "       20.89789526, 21.49588187, 36.62299579, 31.39775722, 33.27921713,\n",
       "       16.38574194, 20.47642029, 30.64770333, 19.97381035, 28.7847961 ,\n",
       "       17.218498  , 24.68879147, 20.79190642, 22.83448526,  8.58056865,\n",
       "       23.80896034, 22.57697789, 20.44057093, 22.71189925,  8.0482711 ,\n",
       "       15.17173935, 23.59244202, 24.95488351, 19.90148152, 21.80376912,\n",
       "        9.7756071 , 43.705159  , 24.57774682, 34.22592781, 12.83411894,\n",
       "       14.06393226, 45.23318763, 14.38762866, 20.95608777, 17.02834623,\n",
       "       19.74580756, 18.88744499, 22.4778254 , 15.32494152, 15.84899874,\n",
       "       13.68437009, 27.27249687, 22.29881719, 23.0038954 , 14.49435547,\n",
       "       16.20543174, 32.88520177, 12.57183546, 20.91664926, 21.38865206,\n",
       "       26.89060552, 22.4160134 , 17.53180895,  8.26039296, 40.57740436,\n",
       "       21.66773253, 24.81218576, 24.68577454, 11.18676181, 32.62948531,\n",
       "       20.3474716 , 20.47947875, 20.9030367 , 18.45394969, 15.88697786,\n",
       "       36.08870697, 26.61758829,  8.52457151, 20.93956808, 16.5878904 ,\n",
       "       21.40239227, 19.05957425, 18.87936783, 10.27898014, 20.81163149,\n",
       "       23.90967272, 46.26701445, 18.78391226, 34.92344671, 22.95026495,\n",
       "       23.80000929, 20.88890302, 21.41269253, 24.72749571, 14.72046185,\n",
       "       24.35839178, 21.39943111, 45.39593366, 22.16544353, 13.92815817,\n",
       "       22.25141675, 20.30781981, 17.6803099 , 17.42008199, 43.85734645,\n",
       "       17.82721244, 20.96953081, 24.17746102, 21.79142152, 18.74070989,\n",
       "       14.42705082, 33.28475025, 22.84731298, 21.64251059, 22.05724281,\n",
       "       20.30405694, 17.04964942])"
      ]
     },
     "execution_count": 38,
     "metadata": {},
     "output_type": "execute_result"
    }
   ],
   "source": [
    "y_predict"
   ]
  },
  {
   "cell_type": "code",
   "execution_count": null,
   "metadata": {},
   "outputs": [],
   "source": []
  },
  {
   "cell_type": "code",
   "execution_count": 39,
   "metadata": {},
   "outputs": [],
   "source": [
    "def predict(x, m, c):\n",
    "    N = x.shape[0]\n",
    "    y = np.zeros(N)\n",
    "    \n",
    "    for i in range(N):\n",
    "        X = x[i,:]\n",
    "        y[i] = (m * X).sum() + c\n",
    "        \n",
    "    return y"
   ]
  },
  {
   "cell_type": "code",
   "execution_count": 40,
   "metadata": {},
   "outputs": [],
   "source": [
    "x_test = test_data"
   ]
  },
  {
   "cell_type": "code",
   "execution_count": 41,
   "metadata": {},
   "outputs": [],
   "source": [
    "y_pred = predict(x_test, m, c)"
   ]
  },
  {
   "cell_type": "code",
   "execution_count": 42,
   "metadata": {},
   "outputs": [
    {
     "data": {
      "text/plain": [
       "array([ 9.36458138, 27.28636875, 21.91923176, 23.25353665, 20.65089313,\n",
       "        2.9891675 , 28.17890497, 23.44309366, 18.60911878, 22.15868737,\n",
       "       24.00497038, 18.42077799, 19.56131075, 21.0051007 , 41.75677689,\n",
       "       23.31769034, 22.98050169, 26.62449631, 19.76582152, 30.97168641,\n",
       "       23.082548  , 22.30301218, 31.55165339, 33.88068576, 31.6927709 ,\n",
       "       14.09781081, 21.17698184, 30.922773  , 22.92632988, 32.26887677,\n",
       "       17.84738273, 24.23811396, 23.58171369, 25.00655168, 14.75966483,\n",
       "       27.85326534, 25.19738794, 20.45011688, 23.58309134,  9.83820425,\n",
       "        4.89568442, 27.04454058, 28.40533968, 20.24754439, 19.52958177,\n",
       "        1.25643133, 39.89081685, 25.45984426, 30.79493094, 17.40223121,\n",
       "       16.76562868, 38.73355419, 18.16958608, 19.97054367, 16.77201583,\n",
       "       21.10877228, 18.07249456, 21.95402325, 14.39021031, 17.22138929,\n",
       "       13.90725075, 28.32332977, 24.0622698 , 25.07200831, 16.06425072,\n",
       "       14.47392181, 33.7315911 , 17.25734212, 24.38846247, 21.25980121,\n",
       "       28.22614382, 24.6305388 , 18.05444736,  4.18272112, 35.25457029,\n",
       "       24.52212888, 27.69549703, 25.30014203, 15.56867379, 32.08882673,\n",
       "       19.45506191, 22.88627655, 22.27884788,  9.00561108, 17.48001353,\n",
       "       29.89621316, 26.97678717,  4.78992256, 18.6782849 , 19.2180825 ,\n",
       "       20.57480223, 20.38918009, 20.47102262, 13.84028296, 19.96463217,\n",
       "       26.71428811, 39.00691371, 16.78307886, 32.34294981, 25.58851062,\n",
       "       25.61470428, 21.93090558, 23.94843374, 29.5631637 , 17.46566236,\n",
       "       24.6612267 , 21.11024728, 36.45069158, 22.27454243, 16.21384185,\n",
       "       27.12801923, -2.07578039, 13.74194136, 13.88885169, 35.57347387,\n",
       "       20.73661919, 22.35424304, 23.95905522, 21.34002759, 18.58216255,\n",
       "       14.69574762, 32.56404338, 21.28172398, 22.52548896, 20.09283559,\n",
       "       20.44076912, 14.45231028])"
      ]
     },
     "execution_count": 42,
     "metadata": {},
     "output_type": "execute_result"
    }
   ],
   "source": [
    "y_pred"
   ]
  },
  {
   "cell_type": "code",
   "execution_count": 43,
   "metadata": {},
   "outputs": [
    {
     "data": {
      "text/plain": [
       "22.2849216814831"
      ]
     },
     "execution_count": 43,
     "metadata": {},
     "output_type": "execute_result"
    }
   ],
   "source": [
    "y_predict.mean()"
   ]
  },
  {
   "cell_type": "code",
   "execution_count": 44,
   "metadata": {},
   "outputs": [],
   "source": [
    "np.savetxt(\"predictedboston2.csv\", y_predict, delimiter=',')"
   ]
  },
  {
   "cell_type": "code",
   "execution_count": null,
   "metadata": {},
   "outputs": [],
   "source": []
  }
 ],
 "metadata": {
  "kernelspec": {
   "display_name": "Python 3",
   "language": "python",
   "name": "python3"
  },
  "language_info": {
   "codemirror_mode": {
    "name": "ipython",
    "version": 3
   },
   "file_extension": ".py",
   "mimetype": "text/x-python",
   "name": "python",
   "nbconvert_exporter": "python",
   "pygments_lexer": "ipython3",
   "version": "3.7.4"
  }
 },
 "nbformat": 4,
 "nbformat_minor": 2
}
